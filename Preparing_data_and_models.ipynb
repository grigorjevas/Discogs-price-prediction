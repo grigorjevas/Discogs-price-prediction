{
  "nbformat": 4,
  "nbformat_minor": 0,
  "metadata": {
    "colab": {
      "name": "Preparing data and models.ipynb",
      "provenance": [],
      "toc_visible": true,
      "authorship_tag": "ABX9TyMz0XPOIj8xhxW3IOLfXO8i",
      "include_colab_link": true
    },
    "kernelspec": {
      "name": "python3",
      "display_name": "Python 3"
    },
    "language_info": {
      "name": "python"
    }
  },
  "cells": [
    {
      "cell_type": "markdown",
      "metadata": {
        "id": "view-in-github",
        "colab_type": "text"
      },
      "source": [
        "<a href=\"https://colab.research.google.com/github/grigorjevas/Discogs-price-prediction/blob/main/Preparing_data_and_models.ipynb\" target=\"_parent\"><img src=\"https://colab.research.google.com/assets/colab-badge.svg\" alt=\"Open In Colab\"/></a>"
      ]
    },
    {
      "cell_type": "markdown",
      "metadata": {
        "id": "Xv_wGJsno5A-"
      },
      "source": [
        "# Modelling Discogs Marketplace price predictions"
      ]
    },
    {
      "cell_type": "markdown",
      "metadata": {
        "id": "2fIw2e7ro-NB"
      },
      "source": [
        "## EDA and selecting data"
      ]
    },
    {
      "cell_type": "code",
      "metadata": {
        "colab": {
          "base_uri": "https://localhost:8080/"
        },
        "id": "cAN3tZ58pOwh",
        "outputId": "9119997f-3730-46e6-e0cb-86d0b1029d1a"
      },
      "source": [
        "from google.colab import drive\n",
        "drive.mount('/content/drive')"
      ],
      "execution_count": 1,
      "outputs": [
        {
          "output_type": "stream",
          "text": [
            "Mounted at /content/drive\n"
          ],
          "name": "stdout"
        }
      ]
    },
    {
      "cell_type": "code",
      "metadata": {
        "id": "ut_ECGCUo4dS"
      },
      "source": [
        "import pandas as pd\n",
        "import numpy as np\n",
        "import seaborn as sns\n",
        "import matplotlib.pyplot as plt\n",
        "\n",
        "from sklearn.preprocessing import OneHotEncoder, StandardScaler\n",
        "from sklearn.model_selection import train_test_split\n",
        "from sklearn import metrics\n",
        "from sklearn.linear_model import LinearRegression\n",
        "\n",
        "import pickle"
      ],
      "execution_count": 2,
      "outputs": []
    },
    {
      "cell_type": "code",
      "metadata": {
        "id": "v2QNkNPRpeEC"
      },
      "source": [
        "df = pd.read_csv(\"/content/drive/MyDrive/Data/electro_raw_data.csv\", parse_dates=[\"release_date\"], na_values=\"N/A\")"
      ],
      "execution_count": 3,
      "outputs": []
    },
    {
      "cell_type": "code",
      "metadata": {
        "colab": {
          "base_uri": "https://localhost:8080/",
          "height": 598
        },
        "id": "vvFgXt29rm5H",
        "outputId": "6e5916a9-3fe3-4b52-c98b-8100214fcc13"
      },
      "source": [
        "df.head()"
      ],
      "execution_count": 4,
      "outputs": [
        {
          "output_type": "execute_result",
          "data": {
            "text/html": [
              "<div>\n",
              "<style scoped>\n",
              "    .dataframe tbody tr th:only-of-type {\n",
              "        vertical-align: middle;\n",
              "    }\n",
              "\n",
              "    .dataframe tbody tr th {\n",
              "        vertical-align: top;\n",
              "    }\n",
              "\n",
              "    .dataframe thead th {\n",
              "        text-align: right;\n",
              "    }\n",
              "</style>\n",
              "<table border=\"1\" class=\"dataframe\">\n",
              "  <thead>\n",
              "    <tr style=\"text-align: right;\">\n",
              "      <th></th>\n",
              "      <th>artist</th>\n",
              "      <th>title</th>\n",
              "      <th>label</th>\n",
              "      <th>release_format</th>\n",
              "      <th>number_of_tracks</th>\n",
              "      <th>release_date</th>\n",
              "      <th>price</th>\n",
              "      <th>rating</th>\n",
              "      <th>votes</th>\n",
              "      <th>have</th>\n",
              "      <th>want</th>\n",
              "      <th>limited_edition</th>\n",
              "      <th>media_condition</th>\n",
              "      <th>sleeve_condition</th>\n",
              "      <th>release_page</th>\n",
              "    </tr>\n",
              "  </thead>\n",
              "  <tbody>\n",
              "    <tr>\n",
              "      <th>0</th>\n",
              "      <td>Quintron And Miss Pussycat</td>\n",
              "      <td>Live At Third Man Records</td>\n",
              "      <td>Third Man Records ‎– TMR 147</td>\n",
              "      <td>LP</td>\n",
              "      <td>10</td>\n",
              "      <td>2012-03-12</td>\n",
              "      <td>19.00</td>\n",
              "      <td>5.00</td>\n",
              "      <td>1.0</td>\n",
              "      <td>9</td>\n",
              "      <td>10</td>\n",
              "      <td>0</td>\n",
              "      <td>Mint (M)</td>\n",
              "      <td>Mint (M)</td>\n",
              "      <td>https://discogs.com/Quintron-And-Miss-Pussycat...</td>\n",
              "    </tr>\n",
              "    <tr>\n",
              "      <th>1</th>\n",
              "      <td>Jean-Michel Jarre</td>\n",
              "      <td>The Concerts In China</td>\n",
              "      <td>PGP RTB ‎– 3220117, Polydor ‎– DLP 2612 039</td>\n",
              "      <td>LP</td>\n",
              "      <td>15</td>\n",
              "      <td>1982-01-01</td>\n",
              "      <td>21.27</td>\n",
              "      <td>4.00</td>\n",
              "      <td>23.0</td>\n",
              "      <td>204</td>\n",
              "      <td>53</td>\n",
              "      <td>0</td>\n",
              "      <td>Very Good Plus (VG+)</td>\n",
              "      <td>Very Good (VG)</td>\n",
              "      <td>https://discogs.com/Jean-Michel-Jarre-The-Conc...</td>\n",
              "    </tr>\n",
              "    <tr>\n",
              "      <th>2</th>\n",
              "      <td>MC T-Rock</td>\n",
              "      <td>Introducing</td>\n",
              "      <td>M-Pire Records ‎– MPR 9901.4</td>\n",
              "      <td>12\"</td>\n",
              "      <td>4</td>\n",
              "      <td>1999-01-01</td>\n",
              "      <td>21.34</td>\n",
              "      <td>4.42</td>\n",
              "      <td>24.0</td>\n",
              "      <td>107</td>\n",
              "      <td>78</td>\n",
              "      <td>0</td>\n",
              "      <td>Very Good Plus (VG+)</td>\n",
              "      <td>Generic</td>\n",
              "      <td>https://discogs.com/MC-T-Rock-Introducing/rele...</td>\n",
              "    </tr>\n",
              "    <tr>\n",
              "      <th>3</th>\n",
              "      <td>E.T.M.S.</td>\n",
              "      <td>Sounds Of Humanoid Kind</td>\n",
              "      <td>Musix Records ‎– SMX 11004</td>\n",
              "      <td>12\"</td>\n",
              "      <td>13</td>\n",
              "      <td>1983-01-01</td>\n",
              "      <td>24.19</td>\n",
              "      <td>4.40</td>\n",
              "      <td>72.0</td>\n",
              "      <td>256</td>\n",
              "      <td>267</td>\n",
              "      <td>1</td>\n",
              "      <td>Very Good Plus (VG+)</td>\n",
              "      <td>Very Good Plus (VG+)</td>\n",
              "      <td>https://discogs.com/ETMS-Sounds-Of-Humanoid-Ki...</td>\n",
              "    </tr>\n",
              "    <tr>\n",
              "      <th>4</th>\n",
              "      <td>The Art Of Noise</td>\n",
              "      <td>In Visible Silence</td>\n",
              "      <td>Chrysalis ‎– BFV 41528, China Records ‎– BFV 4...</td>\n",
              "      <td>LP</td>\n",
              "      <td>11</td>\n",
              "      <td>1986-01-01</td>\n",
              "      <td>24.14</td>\n",
              "      <td>4.01</td>\n",
              "      <td>109.0</td>\n",
              "      <td>896</td>\n",
              "      <td>123</td>\n",
              "      <td>0</td>\n",
              "      <td>Very Good Plus (VG+)</td>\n",
              "      <td>Very Good Plus (VG+)</td>\n",
              "      <td>https://discogs.com/The-Art-Of-Noise-In-Visibl...</td>\n",
              "    </tr>\n",
              "  </tbody>\n",
              "</table>\n",
              "</div>"
            ],
            "text/plain": [
              "                       artist  ...                                       release_page\n",
              "0  Quintron And Miss Pussycat  ...  https://discogs.com/Quintron-And-Miss-Pussycat...\n",
              "1           Jean-Michel Jarre  ...  https://discogs.com/Jean-Michel-Jarre-The-Conc...\n",
              "2                   MC T-Rock  ...  https://discogs.com/MC-T-Rock-Introducing/rele...\n",
              "3                    E.T.M.S.  ...  https://discogs.com/ETMS-Sounds-Of-Humanoid-Ki...\n",
              "4            The Art Of Noise  ...  https://discogs.com/The-Art-Of-Noise-In-Visibl...\n",
              "\n",
              "[5 rows x 15 columns]"
            ]
          },
          "metadata": {
            "tags": []
          },
          "execution_count": 4
        }
      ]
    },
    {
      "cell_type": "code",
      "metadata": {
        "colab": {
          "base_uri": "https://localhost:8080/"
        },
        "id": "LvRzPjDGrhCk",
        "outputId": "df6107fb-6f28-47be-8e93-3b921f978466"
      },
      "source": [
        "df.shape"
      ],
      "execution_count": 5,
      "outputs": [
        {
          "output_type": "execute_result",
          "data": {
            "text/plain": [
              "(4998, 15)"
            ]
          },
          "metadata": {
            "tags": []
          },
          "execution_count": 5
        }
      ]
    },
    {
      "cell_type": "markdown",
      "metadata": {
        "id": "nIh_ZEnNting"
      },
      "source": [
        "Convert release date to year"
      ]
    },
    {
      "cell_type": "code",
      "metadata": {
        "id": "zDcJU1JVozOa"
      },
      "source": [
        "df[\"release_year\"] = df['release_date'].dt.year"
      ],
      "execution_count": 6,
      "outputs": []
    },
    {
      "cell_type": "markdown",
      "metadata": {
        "id": "rX4P_vXrtnGd"
      },
      "source": [
        "Parse item condition to numerical values"
      ]
    },
    {
      "cell_type": "code",
      "metadata": {
        "id": "GEZ6nca3tgru"
      },
      "source": [
        "# Parses item condition value to numerical values\n",
        "def parse_item_condition_to_int(condition: str) -> int:\n",
        "    return {\n",
        "        \"Poor (P)\": 0,\n",
        "        \"Fair (F)\": 0,\n",
        "        \"Good (G)\": 1,\n",
        "        \"Good Plus (G+)\": 1,\n",
        "        \"Very Good (VG)\": 2,\n",
        "        \"Very Good Plus (VG+)\": 3,\n",
        "        \"Generic\": 3,\n",
        "        \"Not Graded\": 3,\n",
        "        \"No Cover\": 3,\n",
        "        \"Near Mint (NM or M-)\": 4,\n",
        "        \"Mint (M)\": 5\n",
        "    }[condition]"
      ],
      "execution_count": 7,
      "outputs": []
    },
    {
      "cell_type": "code",
      "metadata": {
        "id": "eVNJ8Wettui8"
      },
      "source": [
        "df[\"media_condition\"] = df[\"media_condition\"].apply(\n",
        "    lambda cond: parse_item_condition_to_int(cond))\n",
        "df[\"sleeve_condition\"] = df[\"sleeve_condition\"].apply(\n",
        "    lambda cond: parse_item_condition_to_int(cond))"
      ],
      "execution_count": 8,
      "outputs": []
    },
    {
      "cell_type": "markdown",
      "metadata": {
        "id": "eMPYItJGt5ci"
      },
      "source": [
        "Drop N/A rows "
      ]
    },
    {
      "cell_type": "code",
      "metadata": {
        "id": "itBExpQpt9ss"
      },
      "source": [
        "df = df.dropna()"
      ],
      "execution_count": 9,
      "outputs": []
    },
    {
      "cell_type": "markdown",
      "metadata": {
        "id": "xeT5KOxOuIs2"
      },
      "source": [
        "Drop unneeded columns"
      ]
    },
    {
      "cell_type": "code",
      "metadata": {
        "id": "Fdq3nFSkuKiF"
      },
      "source": [
        "df = df.drop([\"label\", \"release_date\", \"release_page\"], axis=\"columns\")"
      ],
      "execution_count": 10,
      "outputs": []
    },
    {
      "cell_type": "code",
      "metadata": {
        "colab": {
          "base_uri": "https://localhost:8080/",
          "height": 204
        },
        "id": "WoSqwTvlr9ok",
        "outputId": "67fcbbda-970d-434f-dc71-16cd8c71a2e3"
      },
      "source": [
        "df.head()"
      ],
      "execution_count": 11,
      "outputs": [
        {
          "output_type": "execute_result",
          "data": {
            "text/html": [
              "<div>\n",
              "<style scoped>\n",
              "    .dataframe tbody tr th:only-of-type {\n",
              "        vertical-align: middle;\n",
              "    }\n",
              "\n",
              "    .dataframe tbody tr th {\n",
              "        vertical-align: top;\n",
              "    }\n",
              "\n",
              "    .dataframe thead th {\n",
              "        text-align: right;\n",
              "    }\n",
              "</style>\n",
              "<table border=\"1\" class=\"dataframe\">\n",
              "  <thead>\n",
              "    <tr style=\"text-align: right;\">\n",
              "      <th></th>\n",
              "      <th>artist</th>\n",
              "      <th>title</th>\n",
              "      <th>release_format</th>\n",
              "      <th>number_of_tracks</th>\n",
              "      <th>price</th>\n",
              "      <th>rating</th>\n",
              "      <th>votes</th>\n",
              "      <th>have</th>\n",
              "      <th>want</th>\n",
              "      <th>limited_edition</th>\n",
              "      <th>media_condition</th>\n",
              "      <th>sleeve_condition</th>\n",
              "      <th>release_year</th>\n",
              "    </tr>\n",
              "  </thead>\n",
              "  <tbody>\n",
              "    <tr>\n",
              "      <th>0</th>\n",
              "      <td>Quintron And Miss Pussycat</td>\n",
              "      <td>Live At Third Man Records</td>\n",
              "      <td>LP</td>\n",
              "      <td>10</td>\n",
              "      <td>19.00</td>\n",
              "      <td>5.00</td>\n",
              "      <td>1.0</td>\n",
              "      <td>9</td>\n",
              "      <td>10</td>\n",
              "      <td>0</td>\n",
              "      <td>5</td>\n",
              "      <td>5</td>\n",
              "      <td>2012.0</td>\n",
              "    </tr>\n",
              "    <tr>\n",
              "      <th>1</th>\n",
              "      <td>Jean-Michel Jarre</td>\n",
              "      <td>The Concerts In China</td>\n",
              "      <td>LP</td>\n",
              "      <td>15</td>\n",
              "      <td>21.27</td>\n",
              "      <td>4.00</td>\n",
              "      <td>23.0</td>\n",
              "      <td>204</td>\n",
              "      <td>53</td>\n",
              "      <td>0</td>\n",
              "      <td>3</td>\n",
              "      <td>2</td>\n",
              "      <td>1982.0</td>\n",
              "    </tr>\n",
              "    <tr>\n",
              "      <th>2</th>\n",
              "      <td>MC T-Rock</td>\n",
              "      <td>Introducing</td>\n",
              "      <td>12\"</td>\n",
              "      <td>4</td>\n",
              "      <td>21.34</td>\n",
              "      <td>4.42</td>\n",
              "      <td>24.0</td>\n",
              "      <td>107</td>\n",
              "      <td>78</td>\n",
              "      <td>0</td>\n",
              "      <td>3</td>\n",
              "      <td>3</td>\n",
              "      <td>1999.0</td>\n",
              "    </tr>\n",
              "    <tr>\n",
              "      <th>3</th>\n",
              "      <td>E.T.M.S.</td>\n",
              "      <td>Sounds Of Humanoid Kind</td>\n",
              "      <td>12\"</td>\n",
              "      <td>13</td>\n",
              "      <td>24.19</td>\n",
              "      <td>4.40</td>\n",
              "      <td>72.0</td>\n",
              "      <td>256</td>\n",
              "      <td>267</td>\n",
              "      <td>1</td>\n",
              "      <td>3</td>\n",
              "      <td>3</td>\n",
              "      <td>1983.0</td>\n",
              "    </tr>\n",
              "    <tr>\n",
              "      <th>4</th>\n",
              "      <td>The Art Of Noise</td>\n",
              "      <td>In Visible Silence</td>\n",
              "      <td>LP</td>\n",
              "      <td>11</td>\n",
              "      <td>24.14</td>\n",
              "      <td>4.01</td>\n",
              "      <td>109.0</td>\n",
              "      <td>896</td>\n",
              "      <td>123</td>\n",
              "      <td>0</td>\n",
              "      <td>3</td>\n",
              "      <td>3</td>\n",
              "      <td>1986.0</td>\n",
              "    </tr>\n",
              "  </tbody>\n",
              "</table>\n",
              "</div>"
            ],
            "text/plain": [
              "                       artist  ... release_year\n",
              "0  Quintron And Miss Pussycat  ...       2012.0\n",
              "1           Jean-Michel Jarre  ...       1982.0\n",
              "2                   MC T-Rock  ...       1999.0\n",
              "3                    E.T.M.S.  ...       1983.0\n",
              "4            The Art Of Noise  ...       1986.0\n",
              "\n",
              "[5 rows x 13 columns]"
            ]
          },
          "metadata": {
            "tags": []
          },
          "execution_count": 11
        }
      ]
    },
    {
      "cell_type": "code",
      "metadata": {
        "colab": {
          "base_uri": "https://localhost:8080/"
        },
        "id": "bzWPu5-WtdN0",
        "outputId": "24178443-53f4-4ec5-adac-4f7cab84e7e0"
      },
      "source": [
        "df.shape"
      ],
      "execution_count": 12,
      "outputs": [
        {
          "output_type": "execute_result",
          "data": {
            "text/plain": [
              "(4841, 13)"
            ]
          },
          "metadata": {
            "tags": []
          },
          "execution_count": 12
        }
      ]
    },
    {
      "cell_type": "markdown",
      "metadata": {
        "id": "W4s1zCOVvdBl"
      },
      "source": [
        "## Encoding and scaling data "
      ]
    },
    {
      "cell_type": "code",
      "metadata": {
        "id": "akayn3ZKuDcM"
      },
      "source": [
        "one_hot_encoder = OneHotEncoder().fit(df[[\"release_format\"]])"
      ],
      "execution_count": 13,
      "outputs": []
    },
    {
      "cell_type": "code",
      "metadata": {
        "id": "hGoBON0Nyc9M"
      },
      "source": [
        "encoded_data = one_hot_encoder.transform(df[[\"release_format\"]]).todense()"
      ],
      "execution_count": 14,
      "outputs": []
    },
    {
      "cell_type": "code",
      "metadata": {
        "id": "u5VLUEjTvwKt"
      },
      "source": [
        "scaler = StandardScaler().fit(\n",
        "    df.drop([\"artist\", \"title\", \"release_format\", \"price\"], axis=\"columns\"))"
      ],
      "execution_count": 15,
      "outputs": []
    },
    {
      "cell_type": "code",
      "metadata": {
        "id": "VRmyTpPqwHbT"
      },
      "source": [
        "scaled_data = scaler.transform(\n",
        "    df.drop([\"artist\", \"title\", \"release_format\", \"price\"], axis=\"columns\"))"
      ],
      "execution_count": 16,
      "outputs": []
    },
    {
      "cell_type": "code",
      "metadata": {
        "id": "6MQuLLqpwTBp"
      },
      "source": [
        "encoded_features = np.concatenate([encoded_data, scaled_data], axis=-1)"
      ],
      "execution_count": 17,
      "outputs": []
    },
    {
      "cell_type": "code",
      "metadata": {
        "id": "eXL4CeiPy1r5"
      },
      "source": [
        "train_features, test_features, train_price, test_price = train_test_split(\n",
        "    encoded_features, df[\"price\"]\n",
        ")"
      ],
      "execution_count": 18,
      "outputs": []
    },
    {
      "cell_type": "markdown",
      "metadata": {
        "id": "8QP8jYJ303qK"
      },
      "source": [
        "Training the model"
      ]
    },
    {
      "cell_type": "code",
      "metadata": {
        "colab": {
          "base_uri": "https://localhost:8080/"
        },
        "id": "grKT6gMJzprv",
        "outputId": "0e531bd5-82e1-46b1-d2fa-efef506cd327"
      },
      "source": [
        "model = LinearRegression(fit_intercept=False)\n",
        "model.fit(train_features, train_price)"
      ],
      "execution_count": 19,
      "outputs": [
        {
          "output_type": "execute_result",
          "data": {
            "text/plain": [
              "LinearRegression(copy_X=True, fit_intercept=False, n_jobs=None, normalize=False)"
            ]
          },
          "metadata": {
            "tags": []
          },
          "execution_count": 19
        }
      ]
    },
    {
      "cell_type": "markdown",
      "metadata": {
        "id": "4-VmX3y105vt"
      },
      "source": [
        "Evaluating the model"
      ]
    },
    {
      "cell_type": "code",
      "metadata": {
        "colab": {
          "base_uri": "https://localhost:8080/"
        },
        "id": "s3V8OUV60Ern",
        "outputId": "69642d92-b836-462e-9cbd-c5ec8a5768de"
      },
      "source": [
        "model.score(test_features, test_price)"
      ],
      "execution_count": 20,
      "outputs": [
        {
          "output_type": "execute_result",
          "data": {
            "text/plain": [
              "0.4214885503087258"
            ]
          },
          "metadata": {
            "tags": []
          },
          "execution_count": 20
        }
      ]
    },
    {
      "cell_type": "code",
      "metadata": {
        "id": "SUWbAPew066T"
      },
      "source": [
        "predicted = model.predict(test_features)"
      ],
      "execution_count": 21,
      "outputs": []
    },
    {
      "cell_type": "code",
      "metadata": {
        "colab": {
          "base_uri": "https://localhost:8080/"
        },
        "id": "KqzA9OV61qZL",
        "outputId": "80e9d449-6fb9-4f67-b1df-ae79bca5f934"
      },
      "source": [
        "metrics.mean_absolute_error(test_price, predicted)"
      ],
      "execution_count": 22,
      "outputs": [
        {
          "output_type": "execute_result",
          "data": {
            "text/plain": [
              "2.63883890994954"
            ]
          },
          "metadata": {
            "tags": []
          },
          "execution_count": 22
        }
      ]
    },
    {
      "cell_type": "code",
      "metadata": {
        "id": "LExj2RML2Cgt"
      },
      "source": [
        "expected = test_price"
      ],
      "execution_count": 23,
      "outputs": []
    },
    {
      "cell_type": "code",
      "metadata": {
        "colab": {
          "base_uri": "https://localhost:8080/",
          "height": 296
        },
        "id": "2rJofwNp3nE5",
        "outputId": "1b1351cc-6c5a-44bd-daea-5d50ede2a76c"
      },
      "source": [
        "plt.scatter(expected, predicted)\n",
        "plt.plot([0, 50], [0, 50], '--k')\n",
        "plt.axis('tight')\n",
        "plt.xlabel('True price')\n",
        "plt.ylabel('Predicted price')"
      ],
      "execution_count": 24,
      "outputs": [
        {
          "output_type": "execute_result",
          "data": {
            "text/plain": [
              "Text(0, 0.5, 'Predicted price')"
            ]
          },
          "metadata": {
            "tags": []
          },
          "execution_count": 24
        },
        {
          "output_type": "display_data",
          "data": {
            "image/png": "[encoded data removed]",
            "text/plain": [
              "<Figure size 432x288 with 1 Axes>"
            ]
          },
          "metadata": {
            "tags": [],
            "needs_background": "light"
          }
        }
      ]
    },
    {
      "cell_type": "markdown",
      "metadata": {
        "id": "aj1q6k1ZUfZY"
      },
      "source": [
        "Exporting the models"
      ]
    },
    {
      "cell_type": "code",
      "metadata": {
        "id": "edL4kNNzUmbx"
      },
      "source": [
        "with open(\"model.pkl\", \"wb\") as f:\n",
        "  pickle.dump(model, f)"
      ],
      "execution_count": 39,
      "outputs": []
    },
    {
      "cell_type": "code",
      "metadata": {
        "id": "LH8wr4KsUwBj"
      },
      "source": [
        "with open(\"one_hot_encoder.pkl\", \"wb\") as f:\n",
        "  pickle.dump(one_hot_encoder, f)"
      ],
      "execution_count": 40,
      "outputs": []
    },
    {
      "cell_type": "code",
      "metadata": {
        "id": "zJAOuRxJ3qxx"
      },
      "source": [
        "with open(\"scaler.pkl\", \"wb\") as f:\n",
        "  pickle.dump(scaler, f)"
      ],
      "execution_count": 41,
      "outputs": []
    },
    {
      "cell_type": "code",
      "metadata": {
        "id": "1RZV2aTp6vOU"
      },
      "source": [
        "# price 5.99\n",
        "# artist = \"Joors & DJ Stingray (2) ‎– The Nines\"\n",
        "# title = \"The Nines\"\n",
        "test_df = pd.read_csv(\"/content/drive/MyDrive/Data/electro_test_data.csv\", parse_dates=[\"release_date\"], na_values=\"N/A\")\n",
        "test_df = test_df.dropna()"
      ],
      "execution_count": 26,
      "outputs": []
    },
    {
      "cell_type": "code",
      "metadata": {
        "id": "HJiK7XAK8bPp"
      },
      "source": [
        "test_df[\"release_year\"] = test_df['release_date'].dt.year\n",
        "test_df[\"media_condition\"] = test_df[\"media_condition\"].apply(\n",
        "    lambda cond: parse_item_condition_to_int(cond))\n",
        "test_df[\"sleeve_condition\"] = test_df[\"sleeve_condition\"].apply(\n",
        "    lambda cond: parse_item_condition_to_int(cond))"
      ],
      "execution_count": 27,
      "outputs": []
    },
    {
      "cell_type": "code",
      "metadata": {
        "id": "bQLqwRul9oGp"
      },
      "source": [
        "test_df = test_df.drop([\"label\", \"release_date\", \"release_page\"], axis=\"columns\")"
      ],
      "execution_count": 28,
      "outputs": []
    },
    {
      "cell_type": "code",
      "metadata": {
        "colab": {
          "base_uri": "https://localhost:8080/"
        },
        "id": "S3KHVVMi_YYR",
        "outputId": "4b5b9ba8-aeca-47e5-9c4b-6189719dfe5e"
      },
      "source": [
        "df.shape"
      ],
      "execution_count": 29,
      "outputs": [
        {
          "output_type": "execute_result",
          "data": {
            "text/plain": [
              "(4841, 13)"
            ]
          },
          "metadata": {
            "tags": []
          },
          "execution_count": 29
        }
      ]
    },
    {
      "cell_type": "code",
      "metadata": {
        "colab": {
          "base_uri": "https://localhost:8080/"
        },
        "id": "_2OctE31_0vG",
        "outputId": "e50ce280-52c3-4da7-f985-eabd439e3fe9"
      },
      "source": [
        "df.drop([\"artist\", \"title\", \"release_format\", \"price\"], axis=\"columns\").shape"
      ],
      "execution_count": 30,
      "outputs": [
        {
          "output_type": "execute_result",
          "data": {
            "text/plain": [
              "(4841, 9)"
            ]
          },
          "metadata": {
            "tags": []
          },
          "execution_count": 30
        }
      ]
    },
    {
      "cell_type": "code",
      "metadata": {
        "colab": {
          "base_uri": "https://localhost:8080/"
        },
        "id": "1smANVCJ-XQ_",
        "outputId": "fc465e93-6e0a-41d2-cdea-6e5ff102a112"
      },
      "source": [
        "test_df.shape"
      ],
      "execution_count": 31,
      "outputs": [
        {
          "output_type": "execute_result",
          "data": {
            "text/plain": [
              "(10, 13)"
            ]
          },
          "metadata": {
            "tags": []
          },
          "execution_count": 31
        }
      ]
    },
    {
      "cell_type": "code",
      "metadata": {
        "colab": {
          "base_uri": "https://localhost:8080/"
        },
        "id": "bSLAvJzB_jGO",
        "outputId": "fd3ec45f-b4bd-439b-b53f-a9a3eb1606c6"
      },
      "source": [
        "test_df.drop([\"artist\", \"title\", \"release_format\", \"price\"], axis=\"columns\").shape"
      ],
      "execution_count": 32,
      "outputs": [
        {
          "output_type": "execute_result",
          "data": {
            "text/plain": [
              "(10, 9)"
            ]
          },
          "metadata": {
            "tags": []
          },
          "execution_count": 32
        }
      ]
    },
    {
      "cell_type": "code",
      "metadata": {
        "colab": {
          "base_uri": "https://localhost:8080/",
          "height": 427
        },
        "id": "RJzd1Q9L_rt2",
        "outputId": "09c289cc-9f2b-48c6-f371-e140ed0d323b"
      },
      "source": [
        "test_df"
      ],
      "execution_count": 33,
      "outputs": [
        {
          "output_type": "execute_result",
          "data": {
            "text/html": [
              "<div>\n",
              "<style scoped>\n",
              "    .dataframe tbody tr th:only-of-type {\n",
              "        vertical-align: middle;\n",
              "    }\n",
              "\n",
              "    .dataframe tbody tr th {\n",
              "        vertical-align: top;\n",
              "    }\n",
              "\n",
              "    .dataframe thead th {\n",
              "        text-align: right;\n",
              "    }\n",
              "</style>\n",
              "<table border=\"1\" class=\"dataframe\">\n",
              "  <thead>\n",
              "    <tr style=\"text-align: right;\">\n",
              "      <th></th>\n",
              "      <th>artist</th>\n",
              "      <th>title</th>\n",
              "      <th>release_format</th>\n",
              "      <th>number_of_tracks</th>\n",
              "      <th>price</th>\n",
              "      <th>rating</th>\n",
              "      <th>votes</th>\n",
              "      <th>have</th>\n",
              "      <th>want</th>\n",
              "      <th>limited_edition</th>\n",
              "      <th>media_condition</th>\n",
              "      <th>sleeve_condition</th>\n",
              "      <th>release_year</th>\n",
              "    </tr>\n",
              "  </thead>\n",
              "  <tbody>\n",
              "    <tr>\n",
              "      <th>0</th>\n",
              "      <td>Enigma</td>\n",
              "      <td>Sadeness Part I</td>\n",
              "      <td>12\"</td>\n",
              "      <td>4</td>\n",
              "      <td>5.99</td>\n",
              "      <td>4.22</td>\n",
              "      <td>49</td>\n",
              "      <td>358</td>\n",
              "      <td>203</td>\n",
              "      <td>0</td>\n",
              "      <td>4</td>\n",
              "      <td>3</td>\n",
              "      <td>1990</td>\n",
              "    </tr>\n",
              "    <tr>\n",
              "      <th>1</th>\n",
              "      <td>Peanut Butter Wolf</td>\n",
              "      <td>Chrome Children</td>\n",
              "      <td>LP</td>\n",
              "      <td>19</td>\n",
              "      <td>78.00</td>\n",
              "      <td>4.53</td>\n",
              "      <td>15</td>\n",
              "      <td>163</td>\n",
              "      <td>170</td>\n",
              "      <td>0</td>\n",
              "      <td>5</td>\n",
              "      <td>4</td>\n",
              "      <td>2006</td>\n",
              "    </tr>\n",
              "    <tr>\n",
              "      <th>2</th>\n",
              "      <td>B.M.O.C. (Big Man On Campus)</td>\n",
              "      <td>Play That Funk</td>\n",
              "      <td>12\"</td>\n",
              "      <td>6</td>\n",
              "      <td>3.00</td>\n",
              "      <td>3.75</td>\n",
              "      <td>4</td>\n",
              "      <td>25</td>\n",
              "      <td>7</td>\n",
              "      <td>0</td>\n",
              "      <td>4</td>\n",
              "      <td>4</td>\n",
              "      <td>1988</td>\n",
              "    </tr>\n",
              "    <tr>\n",
              "      <th>3</th>\n",
              "      <td>Mirwais</td>\n",
              "      <td>Miss You</td>\n",
              "      <td>12\"</td>\n",
              "      <td>2</td>\n",
              "      <td>2.99</td>\n",
              "      <td>3.67</td>\n",
              "      <td>3</td>\n",
              "      <td>80</td>\n",
              "      <td>20</td>\n",
              "      <td>0</td>\n",
              "      <td>2</td>\n",
              "      <td>3</td>\n",
              "      <td>2002</td>\n",
              "    </tr>\n",
              "    <tr>\n",
              "      <th>4</th>\n",
              "      <td>World Class Wreckin' Cru</td>\n",
              "      <td>Phases In Life</td>\n",
              "      <td>LP</td>\n",
              "      <td>10</td>\n",
              "      <td>30.00</td>\n",
              "      <td>3.62</td>\n",
              "      <td>13</td>\n",
              "      <td>43</td>\n",
              "      <td>70</td>\n",
              "      <td>0</td>\n",
              "      <td>4</td>\n",
              "      <td>4</td>\n",
              "      <td>1990</td>\n",
              "    </tr>\n",
              "    <tr>\n",
              "      <th>5</th>\n",
              "      <td>L.A. Dream Team Featuring</td>\n",
              "      <td>Citizens On Patrol</td>\n",
              "      <td>12\"</td>\n",
              "      <td>2</td>\n",
              "      <td>10.00</td>\n",
              "      <td>4.27</td>\n",
              "      <td>11</td>\n",
              "      <td>62</td>\n",
              "      <td>28</td>\n",
              "      <td>0</td>\n",
              "      <td>4</td>\n",
              "      <td>4</td>\n",
              "      <td>1987</td>\n",
              "    </tr>\n",
              "    <tr>\n",
              "      <th>6</th>\n",
              "      <td>Antoinette</td>\n",
              "      <td>Burnin' At 20 Below</td>\n",
              "      <td>LP</td>\n",
              "      <td>11</td>\n",
              "      <td>26.00</td>\n",
              "      <td>3.88</td>\n",
              "      <td>16</td>\n",
              "      <td>118</td>\n",
              "      <td>88</td>\n",
              "      <td>0</td>\n",
              "      <td>4</td>\n",
              "      <td>4</td>\n",
              "      <td>1990</td>\n",
              "    </tr>\n",
              "    <tr>\n",
              "      <th>7</th>\n",
              "      <td>Various</td>\n",
              "      <td>Friday - Original Motion Picture Soundtrack</td>\n",
              "      <td>LP</td>\n",
              "      <td>15</td>\n",
              "      <td>187.00</td>\n",
              "      <td>4.49</td>\n",
              "      <td>39</td>\n",
              "      <td>395</td>\n",
              "      <td>479</td>\n",
              "      <td>0</td>\n",
              "      <td>5</td>\n",
              "      <td>4</td>\n",
              "      <td>1995</td>\n",
              "    </tr>\n",
              "    <tr>\n",
              "      <th>8</th>\n",
              "      <td>N.W.A. And The Posse</td>\n",
              "      <td>N.W.A. And The Posse</td>\n",
              "      <td>LP</td>\n",
              "      <td>11</td>\n",
              "      <td>94.00</td>\n",
              "      <td>4.42</td>\n",
              "      <td>62</td>\n",
              "      <td>595</td>\n",
              "      <td>239</td>\n",
              "      <td>0</td>\n",
              "      <td>4</td>\n",
              "      <td>4</td>\n",
              "      <td>1989</td>\n",
              "    </tr>\n",
              "    <tr>\n",
              "      <th>9</th>\n",
              "      <td>Solar System</td>\n",
              "      <td>City Of Angels</td>\n",
              "      <td>12\"</td>\n",
              "      <td>4</td>\n",
              "      <td>23.90</td>\n",
              "      <td>3.77</td>\n",
              "      <td>22</td>\n",
              "      <td>136</td>\n",
              "      <td>141</td>\n",
              "      <td>0</td>\n",
              "      <td>4</td>\n",
              "      <td>4</td>\n",
              "      <td>2000</td>\n",
              "    </tr>\n",
              "  </tbody>\n",
              "</table>\n",
              "</div>"
            ],
            "text/plain": [
              "                         artist  ... release_year\n",
              "0                        Enigma  ...         1990\n",
              "1            Peanut Butter Wolf  ...         2006\n",
              "2  B.M.O.C. (Big Man On Campus)  ...         1988\n",
              "3                       Mirwais  ...         2002\n",
              "4      World Class Wreckin' Cru  ...         1990\n",
              "5     L.A. Dream Team Featuring  ...         1987\n",
              "6                    Antoinette  ...         1990\n",
              "7                       Various  ...         1995\n",
              "8          N.W.A. And The Posse  ...         1989\n",
              "9                  Solar System  ...         2000\n",
              "\n",
              "[10 rows x 13 columns]"
            ]
          },
          "metadata": {
            "tags": []
          },
          "execution_count": 33
        }
      ]
    },
    {
      "cell_type": "code",
      "metadata": {
        "id": "KD_vfrEf-c6X"
      },
      "source": [
        "encoded_test_data = one_hot_encoder.transform(test_df[[\"release_format\"]]).todense()"
      ],
      "execution_count": 34,
      "outputs": []
    },
    {
      "cell_type": "code",
      "metadata": {
        "id": "LSy-GYeL-eCI"
      },
      "source": [
        "scaled_test_data = scaler.transform(\n",
        "    test_df.drop([\"artist\", \"title\", \"release_format\", \"price\"], axis=\"columns\"))"
      ],
      "execution_count": 35,
      "outputs": []
    },
    {
      "cell_type": "code",
      "metadata": {
        "id": "wt3kCwem9ezY"
      },
      "source": [
        "encoded_test_features = np.concatenate([encoded_test_data, scaled_test_data], axis=-1)"
      ],
      "execution_count": 36,
      "outputs": []
    },
    {
      "cell_type": "code",
      "metadata": {
        "colab": {
          "base_uri": "https://localhost:8080/"
        },
        "id": "NexM1gLxAjPS",
        "outputId": "b8a651b4-fff9-4703-b24e-300bc1bf356c"
      },
      "source": [
        "encoded_test_features.shape"
      ],
      "execution_count": 37,
      "outputs": [
        {
          "output_type": "execute_result",
          "data": {
            "text/plain": [
              "(10, 17)"
            ]
          },
          "metadata": {
            "tags": []
          },
          "execution_count": 37
        }
      ]
    },
    {
      "cell_type": "code",
      "metadata": {
        "colab": {
          "base_uri": "https://localhost:8080/"
        },
        "id": "xaUP2IEJ-FsS",
        "outputId": "994a7877-b6e5-4f54-d8a2-1c07ecee97b3"
      },
      "source": [
        "model.predict(encoded_test_features)"
      ],
      "execution_count": 38,
      "outputs": [
        {
          "output_type": "execute_result",
          "data": {
            "text/plain": [
              "array([ 9.3220456 , 27.32263876,  7.32185097,  5.16956785, 14.0877956 ,\n",
              "        4.32729651, 15.62281567, 30.31284569, 17.83548013,  9.28673228])"
            ]
          },
          "metadata": {
            "tags": []
          },
          "execution_count": 38
        }
      ]
    },
    {
      "cell_type": "code",
      "metadata": {
        "id": "A0cIti2UAdzf"
      },
      "source": [
        ""
      ],
      "execution_count": 38,
      "outputs": []
    }
  ]
}