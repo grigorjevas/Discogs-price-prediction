{
  "nbformat": 4,
  "nbformat_minor": 0,
  "metadata": {
    "colab": {
      "name": "Preparing data and models.ipynb",
      "provenance": [],
      "toc_visible": true,
      "authorship_tag": "ABX9TyN9rKH5I7w2r08T31/eRjnq",
      "include_colab_link": true
    },
    "kernelspec": {
      "name": "python3",
      "display_name": "Python 3"
    },
    "language_info": {
      "name": "python"
    }
  },
  "cells": [
    {
      "cell_type": "markdown",
      "metadata": {
        "id": "view-in-github",
        "colab_type": "text"
      },
      "source": [
        "<a href=\"https://colab.research.google.com/github/grigorjevas/Discogs-price-prediction/blob/main/Preparing_data_and_models.ipynb\" target=\"_parent\"><img src=\"https://colab.research.google.com/assets/colab-badge.svg\" alt=\"Open In Colab\"/></a>"
      ]
    },
    {
      "cell_type": "markdown",
      "metadata": {
        "id": "Xv_wGJsno5A-"
      },
      "source": [
        "# Modelling Discogs Marketplace price predictions"
      ]
    },
    {
      "cell_type": "markdown",
      "metadata": {
        "id": "2fIw2e7ro-NB"
      },
      "source": [
        "## EDA and selecting data"
      ]
    },
    {
      "cell_type": "code",
      "metadata": {
        "colab": {
          "base_uri": "https://localhost:8080/"
        },
        "id": "cAN3tZ58pOwh",
        "outputId": "9b32717c-9449-4200-d296-a00d56707764"
      },
      "source": [
        "from google.colab import drive\n",
        "drive.mount('/content/drive')"
      ],
      "execution_count": 85,
      "outputs": [
        {
          "output_type": "stream",
          "text": [
            "Drive already mounted at /content/drive; to attempt to forcibly remount, call drive.mount(\"/content/drive\", force_remount=True).\n"
          ],
          "name": "stdout"
        }
      ]
    },
    {
      "cell_type": "code",
      "metadata": {
        "id": "ut_ECGCUo4dS"
      },
      "source": [
        "import pandas as pd\n",
        "import numpy as np\n",
        "import matplotlib.pyplot as plt\n",
        "\n",
        "from sklearn.preprocessing import OneHotEncoder, StandardScaler\n",
        "from sklearn.model_selection import train_test_split\n",
        "from sklearn import metrics\n",
        "from sklearn.linear_model import LinearRegression\n",
        "\n",
        "import pickle"
      ],
      "execution_count": 86,
      "outputs": []
    },
    {
      "cell_type": "code",
      "metadata": {
        "id": "v2QNkNPRpeEC"
      },
      "source": [
        "df = pd.read_csv(\"/content/drive/MyDrive/Data/electro_raw_data.csv\", parse_dates=[\"release_date\"], na_values=\"N/A\")"
      ],
      "execution_count": 87,
      "outputs": []
    },
    {
      "cell_type": "code",
      "metadata": {
        "colab": {
          "base_uri": "https://localhost:8080/",
          "height": 598
        },
        "id": "vvFgXt29rm5H",
        "outputId": "7ab7cf4a-c611-4ad9-bb64-72f9cfe6c518"
      },
      "source": [
        "df.head()"
      ],
      "execution_count": 88,
      "outputs": [
        {
          "output_type": "execute_result",
          "data": {
            "text/html": [
              "<div>\n",
              "<style scoped>\n",
              "    .dataframe tbody tr th:only-of-type {\n",
              "        vertical-align: middle;\n",
              "    }\n",
              "\n",
              "    .dataframe tbody tr th {\n",
              "        vertical-align: top;\n",
              "    }\n",
              "\n",
              "    .dataframe thead th {\n",
              "        text-align: right;\n",
              "    }\n",
              "</style>\n",
              "<table border=\"1\" class=\"dataframe\">\n",
              "  <thead>\n",
              "    <tr style=\"text-align: right;\">\n",
              "      <th></th>\n",
              "      <th>artist</th>\n",
              "      <th>title</th>\n",
              "      <th>label</th>\n",
              "      <th>release_format</th>\n",
              "      <th>number_of_tracks</th>\n",
              "      <th>release_date</th>\n",
              "      <th>price</th>\n",
              "      <th>rating</th>\n",
              "      <th>votes</th>\n",
              "      <th>have</th>\n",
              "      <th>want</th>\n",
              "      <th>limited_edition</th>\n",
              "      <th>media_condition</th>\n",
              "      <th>sleeve_condition</th>\n",
              "      <th>release_page</th>\n",
              "    </tr>\n",
              "  </thead>\n",
              "  <tbody>\n",
              "    <tr>\n",
              "      <th>0</th>\n",
              "      <td>Quintron And Miss Pussycat</td>\n",
              "      <td>Live At Third Man Records</td>\n",
              "      <td>Third Man Records ‎– TMR 147</td>\n",
              "      <td>LP</td>\n",
              "      <td>10</td>\n",
              "      <td>2012-03-12</td>\n",
              "      <td>19.00</td>\n",
              "      <td>5.00</td>\n",
              "      <td>1.0</td>\n",
              "      <td>9</td>\n",
              "      <td>10</td>\n",
              "      <td>0</td>\n",
              "      <td>Mint (M)</td>\n",
              "      <td>Mint (M)</td>\n",
              "      <td>https://discogs.com/Quintron-And-Miss-Pussycat...</td>\n",
              "    </tr>\n",
              "    <tr>\n",
              "      <th>1</th>\n",
              "      <td>Jean-Michel Jarre</td>\n",
              "      <td>The Concerts In China</td>\n",
              "      <td>PGP RTB ‎– 3220117, Polydor ‎– DLP 2612 039</td>\n",
              "      <td>LP</td>\n",
              "      <td>15</td>\n",
              "      <td>1982-01-01</td>\n",
              "      <td>21.27</td>\n",
              "      <td>4.00</td>\n",
              "      <td>23.0</td>\n",
              "      <td>204</td>\n",
              "      <td>53</td>\n",
              "      <td>0</td>\n",
              "      <td>Very Good Plus (VG+)</td>\n",
              "      <td>Very Good (VG)</td>\n",
              "      <td>https://discogs.com/Jean-Michel-Jarre-The-Conc...</td>\n",
              "    </tr>\n",
              "    <tr>\n",
              "      <th>2</th>\n",
              "      <td>MC T-Rock</td>\n",
              "      <td>Introducing</td>\n",
              "      <td>M-Pire Records ‎– MPR 9901.4</td>\n",
              "      <td>12\"</td>\n",
              "      <td>4</td>\n",
              "      <td>1999-01-01</td>\n",
              "      <td>21.34</td>\n",
              "      <td>4.42</td>\n",
              "      <td>24.0</td>\n",
              "      <td>107</td>\n",
              "      <td>78</td>\n",
              "      <td>0</td>\n",
              "      <td>Very Good Plus (VG+)</td>\n",
              "      <td>Generic</td>\n",
              "      <td>https://discogs.com/MC-T-Rock-Introducing/rele...</td>\n",
              "    </tr>\n",
              "    <tr>\n",
              "      <th>3</th>\n",
              "      <td>E.T.M.S.</td>\n",
              "      <td>Sounds Of Humanoid Kind</td>\n",
              "      <td>Musix Records ‎– SMX 11004</td>\n",
              "      <td>12\"</td>\n",
              "      <td>13</td>\n",
              "      <td>1983-01-01</td>\n",
              "      <td>24.19</td>\n",
              "      <td>4.40</td>\n",
              "      <td>72.0</td>\n",
              "      <td>256</td>\n",
              "      <td>267</td>\n",
              "      <td>1</td>\n",
              "      <td>Very Good Plus (VG+)</td>\n",
              "      <td>Very Good Plus (VG+)</td>\n",
              "      <td>https://discogs.com/ETMS-Sounds-Of-Humanoid-Ki...</td>\n",
              "    </tr>\n",
              "    <tr>\n",
              "      <th>4</th>\n",
              "      <td>The Art Of Noise</td>\n",
              "      <td>In Visible Silence</td>\n",
              "      <td>Chrysalis ‎– BFV 41528, China Records ‎– BFV 4...</td>\n",
              "      <td>LP</td>\n",
              "      <td>11</td>\n",
              "      <td>1986-01-01</td>\n",
              "      <td>24.14</td>\n",
              "      <td>4.01</td>\n",
              "      <td>109.0</td>\n",
              "      <td>896</td>\n",
              "      <td>123</td>\n",
              "      <td>0</td>\n",
              "      <td>Very Good Plus (VG+)</td>\n",
              "      <td>Very Good Plus (VG+)</td>\n",
              "      <td>https://discogs.com/The-Art-Of-Noise-In-Visibl...</td>\n",
              "    </tr>\n",
              "  </tbody>\n",
              "</table>\n",
              "</div>"
            ],
            "text/plain": [
              "                       artist  ...                                       release_page\n",
              "0  Quintron And Miss Pussycat  ...  https://discogs.com/Quintron-And-Miss-Pussycat...\n",
              "1           Jean-Michel Jarre  ...  https://discogs.com/Jean-Michel-Jarre-The-Conc...\n",
              "2                   MC T-Rock  ...  https://discogs.com/MC-T-Rock-Introducing/rele...\n",
              "3                    E.T.M.S.  ...  https://discogs.com/ETMS-Sounds-Of-Humanoid-Ki...\n",
              "4            The Art Of Noise  ...  https://discogs.com/The-Art-Of-Noise-In-Visibl...\n",
              "\n",
              "[5 rows x 15 columns]"
            ]
          },
          "metadata": {
            "tags": []
          },
          "execution_count": 88
        }
      ]
    },
    {
      "cell_type": "code",
      "metadata": {
        "colab": {
          "base_uri": "https://localhost:8080/"
        },
        "id": "LvRzPjDGrhCk",
        "outputId": "8ef27490-686a-46ac-8e01-16aa2fc12fe9"
      },
      "source": [
        "df.shape"
      ],
      "execution_count": 89,
      "outputs": [
        {
          "output_type": "execute_result",
          "data": {
            "text/plain": [
              "(4998, 15)"
            ]
          },
          "metadata": {
            "tags": []
          },
          "execution_count": 89
        }
      ]
    },
    {
      "cell_type": "markdown",
      "metadata": {
        "id": "nIh_ZEnNting"
      },
      "source": [
        "Convert release date to year"
      ]
    },
    {
      "cell_type": "code",
      "metadata": {
        "id": "zDcJU1JVozOa"
      },
      "source": [
        "df[\"release_year\"] = df['release_date'].dt.year"
      ],
      "execution_count": 90,
      "outputs": []
    },
    {
      "cell_type": "markdown",
      "metadata": {
        "id": "_cP7meZ6n-Zu"
      },
      "source": [
        "Only keep records priced under 100 eur"
      ]
    },
    {
      "cell_type": "code",
      "metadata": {
        "id": "oG0NixnbnjLK"
      },
      "source": [
        "df = df[df[\"price\"] < 100]"
      ],
      "execution_count": 91,
      "outputs": []
    },
    {
      "cell_type": "markdown",
      "metadata": {
        "id": "rX4P_vXrtnGd"
      },
      "source": [
        "Parse item condition to numerical values"
      ]
    },
    {
      "cell_type": "code",
      "metadata": {
        "id": "GEZ6nca3tgru"
      },
      "source": [
        "# Parses item condition value to numerical values\n",
        "def parse_item_condition_to_int(condition: str) -> int:\n",
        "    return {\n",
        "        \"Poor (P)\": 0,\n",
        "        \"Fair (F)\": 0,\n",
        "        \"Good (G)\": 1,\n",
        "        \"Good Plus (G+)\": 1,\n",
        "        \"Very Good (VG)\": 2,\n",
        "        \"Very Good Plus (VG+)\": 3,\n",
        "        \"Generic\": 3,\n",
        "        \"Not Graded\": 3,\n",
        "        \"No Cover\": 3,\n",
        "        \"Near Mint (NM or M-)\": 4,\n",
        "        \"Mint (M)\": 5\n",
        "    }[condition]"
      ],
      "execution_count": 92,
      "outputs": []
    },
    {
      "cell_type": "code",
      "metadata": {
        "id": "eVNJ8Wettui8"
      },
      "source": [
        "df[\"media_condition\"] = df[\"media_condition\"].apply(\n",
        "    lambda cond: parse_item_condition_to_int(cond))\n",
        "df[\"sleeve_condition\"] = df[\"sleeve_condition\"].apply(\n",
        "    lambda cond: parse_item_condition_to_int(cond))"
      ],
      "execution_count": 93,
      "outputs": []
    },
    {
      "cell_type": "markdown",
      "metadata": {
        "id": "eMPYItJGt5ci"
      },
      "source": [
        "Drop N/A rows "
      ]
    },
    {
      "cell_type": "code",
      "metadata": {
        "id": "itBExpQpt9ss"
      },
      "source": [
        "df = df.dropna()"
      ],
      "execution_count": 94,
      "outputs": []
    },
    {
      "cell_type": "markdown",
      "metadata": {
        "id": "xeT5KOxOuIs2"
      },
      "source": [
        "Drop unneeded columns"
      ]
    },
    {
      "cell_type": "code",
      "metadata": {
        "id": "Fdq3nFSkuKiF"
      },
      "source": [
        "df = df.drop([\"artist\", \"title\", \"label\", \"release_date\", \"release_page\"], axis=\"columns\")"
      ],
      "execution_count": 95,
      "outputs": []
    },
    {
      "cell_type": "code",
      "metadata": {
        "colab": {
          "base_uri": "https://localhost:8080/",
          "height": 204
        },
        "id": "WoSqwTvlr9ok",
        "outputId": "e98846ab-4338-466d-b3ed-0d39f2e8e3a4"
      },
      "source": [
        "df.head()"
      ],
      "execution_count": 96,
      "outputs": [
        {
          "output_type": "execute_result",
          "data": {
            "text/html": [
              "<div>\n",
              "<style scoped>\n",
              "    .dataframe tbody tr th:only-of-type {\n",
              "        vertical-align: middle;\n",
              "    }\n",
              "\n",
              "    .dataframe tbody tr th {\n",
              "        vertical-align: top;\n",
              "    }\n",
              "\n",
              "    .dataframe thead th {\n",
              "        text-align: right;\n",
              "    }\n",
              "</style>\n",
              "<table border=\"1\" class=\"dataframe\">\n",
              "  <thead>\n",
              "    <tr style=\"text-align: right;\">\n",
              "      <th></th>\n",
              "      <th>release_format</th>\n",
              "      <th>number_of_tracks</th>\n",
              "      <th>price</th>\n",
              "      <th>rating</th>\n",
              "      <th>votes</th>\n",
              "      <th>have</th>\n",
              "      <th>want</th>\n",
              "      <th>limited_edition</th>\n",
              "      <th>media_condition</th>\n",
              "      <th>sleeve_condition</th>\n",
              "      <th>release_year</th>\n",
              "    </tr>\n",
              "  </thead>\n",
              "  <tbody>\n",
              "    <tr>\n",
              "      <th>0</th>\n",
              "      <td>LP</td>\n",
              "      <td>10</td>\n",
              "      <td>19.00</td>\n",
              "      <td>5.00</td>\n",
              "      <td>1.0</td>\n",
              "      <td>9</td>\n",
              "      <td>10</td>\n",
              "      <td>0</td>\n",
              "      <td>5</td>\n",
              "      <td>5</td>\n",
              "      <td>2012.0</td>\n",
              "    </tr>\n",
              "    <tr>\n",
              "      <th>1</th>\n",
              "      <td>LP</td>\n",
              "      <td>15</td>\n",
              "      <td>21.27</td>\n",
              "      <td>4.00</td>\n",
              "      <td>23.0</td>\n",
              "      <td>204</td>\n",
              "      <td>53</td>\n",
              "      <td>0</td>\n",
              "      <td>3</td>\n",
              "      <td>2</td>\n",
              "      <td>1982.0</td>\n",
              "    </tr>\n",
              "    <tr>\n",
              "      <th>2</th>\n",
              "      <td>12\"</td>\n",
              "      <td>4</td>\n",
              "      <td>21.34</td>\n",
              "      <td>4.42</td>\n",
              "      <td>24.0</td>\n",
              "      <td>107</td>\n",
              "      <td>78</td>\n",
              "      <td>0</td>\n",
              "      <td>3</td>\n",
              "      <td>3</td>\n",
              "      <td>1999.0</td>\n",
              "    </tr>\n",
              "    <tr>\n",
              "      <th>3</th>\n",
              "      <td>12\"</td>\n",
              "      <td>13</td>\n",
              "      <td>24.19</td>\n",
              "      <td>4.40</td>\n",
              "      <td>72.0</td>\n",
              "      <td>256</td>\n",
              "      <td>267</td>\n",
              "      <td>1</td>\n",
              "      <td>3</td>\n",
              "      <td>3</td>\n",
              "      <td>1983.0</td>\n",
              "    </tr>\n",
              "    <tr>\n",
              "      <th>4</th>\n",
              "      <td>LP</td>\n",
              "      <td>11</td>\n",
              "      <td>24.14</td>\n",
              "      <td>4.01</td>\n",
              "      <td>109.0</td>\n",
              "      <td>896</td>\n",
              "      <td>123</td>\n",
              "      <td>0</td>\n",
              "      <td>3</td>\n",
              "      <td>3</td>\n",
              "      <td>1986.0</td>\n",
              "    </tr>\n",
              "  </tbody>\n",
              "</table>\n",
              "</div>"
            ],
            "text/plain": [
              "  release_format  number_of_tracks  ...  sleeve_condition  release_year\n",
              "0             LP                10  ...                 5        2012.0\n",
              "1             LP                15  ...                 2        1982.0\n",
              "2            12\"                 4  ...                 3        1999.0\n",
              "3            12\"                13  ...                 3        1983.0\n",
              "4             LP                11  ...                 3        1986.0\n",
              "\n",
              "[5 rows x 11 columns]"
            ]
          },
          "metadata": {
            "tags": []
          },
          "execution_count": 96
        }
      ]
    },
    {
      "cell_type": "code",
      "metadata": {
        "colab": {
          "base_uri": "https://localhost:8080/"
        },
        "id": "bzWPu5-WtdN0",
        "outputId": "817767b8-4cf2-4096-c4fc-6d29ffb7b973"
      },
      "source": [
        "df.shape"
      ],
      "execution_count": 97,
      "outputs": [
        {
          "output_type": "execute_result",
          "data": {
            "text/plain": [
              "(4835, 11)"
            ]
          },
          "metadata": {
            "tags": []
          },
          "execution_count": 97
        }
      ]
    },
    {
      "cell_type": "markdown",
      "metadata": {
        "id": "W4s1zCOVvdBl"
      },
      "source": [
        "## Encoding and scaling data "
      ]
    },
    {
      "cell_type": "code",
      "metadata": {
        "id": "akayn3ZKuDcM"
      },
      "source": [
        "one_hot_encoder = OneHotEncoder().fit(df[[\"release_format\"]])"
      ],
      "execution_count": 98,
      "outputs": []
    },
    {
      "cell_type": "code",
      "metadata": {
        "id": "hGoBON0Nyc9M"
      },
      "source": [
        "encoded_data = one_hot_encoder.transform(df[[\"release_format\"]]).todense()"
      ],
      "execution_count": 99,
      "outputs": []
    },
    {
      "cell_type": "code",
      "metadata": {
        "id": "u5VLUEjTvwKt"
      },
      "source": [
        "scaler = StandardScaler().fit(\n",
        "    df.drop([\"release_format\", \"price\"], axis=\"columns\"))"
      ],
      "execution_count": 100,
      "outputs": []
    },
    {
      "cell_type": "code",
      "metadata": {
        "id": "VRmyTpPqwHbT"
      },
      "source": [
        "scaled_data = scaler.transform(\n",
        "    df.drop([\"release_format\", \"price\"], axis=\"columns\"))"
      ],
      "execution_count": 101,
      "outputs": []
    },
    {
      "cell_type": "code",
      "metadata": {
        "id": "6MQuLLqpwTBp"
      },
      "source": [
        "encoded_features = np.concatenate([encoded_data, scaled_data], axis=-1)"
      ],
      "execution_count": 102,
      "outputs": []
    },
    {
      "cell_type": "code",
      "metadata": {
        "id": "eXL4CeiPy1r5"
      },
      "source": [
        "train_features, test_features, train_price, test_price = train_test_split(\n",
        "    encoded_features, df[\"price\"]\n",
        ")"
      ],
      "execution_count": 103,
      "outputs": []
    },
    {
      "cell_type": "markdown",
      "metadata": {
        "id": "8QP8jYJ303qK"
      },
      "source": [
        "## Training the model"
      ]
    },
    {
      "cell_type": "code",
      "metadata": {
        "colab": {
          "base_uri": "https://localhost:8080/"
        },
        "id": "grKT6gMJzprv",
        "outputId": "32df43fb-0c39-43c8-915d-a838aa58cc85"
      },
      "source": [
        "model = LinearRegression(fit_intercept=False)\n",
        "model.fit(train_features, train_price)"
      ],
      "execution_count": 104,
      "outputs": [
        {
          "output_type": "execute_result",
          "data": {
            "text/plain": [
              "LinearRegression(copy_X=True, fit_intercept=False, n_jobs=None, normalize=False)"
            ]
          },
          "metadata": {
            "tags": []
          },
          "execution_count": 104
        }
      ]
    },
    {
      "cell_type": "markdown",
      "metadata": {
        "id": "4-VmX3y105vt"
      },
      "source": [
        "## Evaluating the model"
      ]
    },
    {
      "cell_type": "code",
      "metadata": {
        "colab": {
          "base_uri": "https://localhost:8080/"
        },
        "id": "s3V8OUV60Ern",
        "outputId": "b3f66d92-a928-43f6-db79-8767fe4ff6f5"
      },
      "source": [
        "score = model.score(test_features, test_price)\n",
        "predicted = model.predict(test_features)\n",
        "mae = metrics.mean_absolute_error(test_price, predicted)\n",
        "print(f\"Model score: {score}\")\n",
        "print(f\"Mean absolute error: {mae}\")"
      ],
      "execution_count": 105,
      "outputs": [
        {
          "output_type": "stream",
          "text": [
            "Model score: 0.5254380568688232\n",
            "Mean absolute error: 2.1076547256012557\n"
          ],
          "name": "stdout"
        }
      ]
    },
    {
      "cell_type": "code",
      "metadata": {
        "colab": {
          "base_uri": "https://localhost:8080/",
          "height": 296
        },
        "id": "2rJofwNp3nE5",
        "outputId": "80da7ad0-bc24-4fd3-a7d0-305a61a096d0"
      },
      "source": [
        "expected = test_price\n",
        "plt.scatter(expected, predicted)\n",
        "plt.plot([0, 50], [0, 50], '--k')\n",
        "plt.axis('tight')\n",
        "plt.xlabel('True price')\n",
        "plt.ylabel('Predicted price')"
      ],
      "execution_count": 106,
      "outputs": [
        {
          "output_type": "execute_result",
          "data": {
            "text/plain": [
              "Text(0, 0.5, 'Predicted price')"
            ]
          },
          "metadata": {
            "tags": []
          },
          "execution_count": 106
        },
        {
          "output_type": "display_data",
          "data": {
            "image/png": "[encoded data removed]",
            "text/plain": [
              "<Figure size 432x288 with 1 Axes>"
            ]
          },
          "metadata": {
            "tags": [],
            "needs_background": "light"
          }
        }
      ]
    },
    {
      "cell_type": "markdown",
      "metadata": {
        "id": "aj1q6k1ZUfZY"
      },
      "source": [
        "## Exporting the models"
      ]
    },
    {
      "cell_type": "code",
      "metadata": {
        "id": "edL4kNNzUmbx"
      },
      "source": [
        "with open(\"model.pkl\", \"wb\") as f:\n",
        "  pickle.dump(model, f)"
      ],
      "execution_count": 107,
      "outputs": []
    },
    {
      "cell_type": "code",
      "metadata": {
        "id": "LH8wr4KsUwBj"
      },
      "source": [
        "with open(\"one_hot_encoder.pkl\", \"wb\") as f:\n",
        "  pickle.dump(one_hot_encoder, f)"
      ],
      "execution_count": 108,
      "outputs": []
    },
    {
      "cell_type": "code",
      "metadata": {
        "id": "zJAOuRxJ3qxx"
      },
      "source": [
        "with open(\"scaler.pkl\", \"wb\") as f:\n",
        "  pickle.dump(scaler, f)"
      ],
      "execution_count": 109,
      "outputs": []
    },
    {
      "cell_type": "code",
      "metadata": {
        "id": "A0cIti2UAdzf"
      },
      "source": [
        ""
      ],
      "execution_count": 109,
      "outputs": []
    }
  ]
}